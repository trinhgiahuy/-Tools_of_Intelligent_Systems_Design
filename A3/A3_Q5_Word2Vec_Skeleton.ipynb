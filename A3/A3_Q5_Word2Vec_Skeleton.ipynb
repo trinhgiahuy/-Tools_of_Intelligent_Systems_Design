{
  "nbformat": 4,
  "nbformat_minor": 0,
  "metadata": {
    "colab": {
      "provenance": [],
      "gpuType": "T4"
    },
    "kernelspec": {
      "name": "python3",
      "display_name": "Python 3"
    },
    "language_info": {
      "name": "python"
    },
    "accelerator": "GPU"
  },
  "cells": [
    {
      "cell_type": "markdown",
      "source": [
        "# Importing libraries"
      ],
      "metadata": {
        "id": "gqeGGFcnokoh"
      }
    },
    {
      "cell_type": "code",
      "execution_count": 9,
      "metadata": {
        "id": "31x1tVfgdmZq"
      },
      "outputs": [],
      "source": [
        "import numpy as np\n",
        "import os\n",
        "import tensorflow as tf\n",
        "from tensorflow.keras.models import Model\n",
        "from tensorflow.keras.layers import Input, Embedding, Dense, Lambda\n",
        "from tensorflow.keras.preprocessing.sequence import pad_sequences\n",
        "from tensorflow.keras.utils import to_categorical\n",
        "import tensorflow.keras.backend as K\n",
        "\n",
        "from sklearn.model_selection import train_test_split\n",
        "import matplotlib.pyplot as plt\n",
        "\n",
        "import random"
      ]
    },
    {
      "cell_type": "code",
      "source": [
        "from google.colab import drive\n",
        "drive.mount('/content/drive')"
      ],
      "metadata": {
        "colab": {
          "base_uri": "https://localhost:8080/"
        },
        "id": "v8NKdWruTc-f",
        "outputId": "1164f167-a43d-4375-9b3b-92eb9274f6ab"
      },
      "execution_count": 4,
      "outputs": [
        {
          "output_type": "stream",
          "name": "stdout",
          "text": [
            "Mounted at /content/drive\n"
          ]
        }
      ]
    },
    {
      "cell_type": "markdown",
      "source": [
        "# Set random seed"
      ],
      "metadata": {
        "id": "O2FiqCLjvCbL"
      }
    },
    {
      "cell_type": "code",
      "source": [
        "# Set environment variables\n",
        "os.environ['PYTHONHASHSEED'] = str(25)\n",
        "os.environ['TF_DETERMINISTIC_OPS'] = '1'\n",
        "os.environ['TF_CUDNN_DETERMINISTIC'] = '1'\n",
        "\n",
        "# Set seed values\n",
        "np.random.seed(25)\n",
        "tf.random.set_seed(25)\n",
        "random.seed(25)"
      ],
      "metadata": {
        "id": "ziEj8ly6vE9r"
      },
      "execution_count": null,
      "outputs": []
    },
    {
      "cell_type": "markdown",
      "source": [
        "# TODO: Preprocess"
      ],
      "metadata": {
        "id": "9tT4SznWvOMV"
      }
    },
    {
      "cell_type": "code",
      "source": [
        "# Preprocess the text\n",
        "def preprocess(text):\n",
        "    lower_text = text.lower()\n",
        "    words = lower_text.split()\n",
        "    # print(words)\n",
        "    return words\n"
      ],
      "metadata": {
        "id": "fuuTn2EzvREK"
      },
      "execution_count": 1,
      "outputs": []
    },
    {
      "cell_type": "markdown",
      "source": [
        "# TODO: Build Vocabulary and training data"
      ],
      "metadata": {
        "id": "0Wi3Pk-5vVd7"
      }
    },
    {
      "cell_type": "code",
      "source": [
        "# TODO: Build vocabulary and generate training data\n",
        "def build_and_prepare_data(words, window_size=2):\n",
        "    # Build vocabulary\n",
        "    vocab = {}\n",
        "    index = 0\n",
        "    for word in words:\n",
        "        if word not in vocab:\n",
        "            vocab[word] = index\n",
        "            index += 1\n",
        "    # Generate context-target pairs\n",
        "    contexts = []\n",
        "    targets = []\n",
        "    for i in range(window_size, len(words) - window_size):\n",
        "        context = []\n",
        "        for j in range(-window_size, window_size + 1):\n",
        "            if j != 0:  # Skip the target word itself\n",
        "                context.append(vocab[words[i + j]])\n",
        "        contexts.append(context)\n",
        "        targets.append(vocab[words[i]])\n",
        "\n",
        "    # Extract contexts and targets from data\n",
        "    contexts = np.array(contexts)\n",
        "    targets = np.array(targets)\n",
        "\n",
        "    # Prepare contexts and targets for training by padding and one-hot encoding\n",
        "    targets = to_categorical(targets, num_classes=len(vocab))\n",
        "\n",
        "    return vocab, contexts, targets"
      ],
      "metadata": {
        "id": "b1oDT32ovXyG"
      },
      "execution_count": 43,
      "outputs": []
    },
    {
      "cell_type": "markdown",
      "source": [
        "# TODO: Build CBOW model"
      ],
      "metadata": {
        "id": "EZzb-mKEvjt6"
      }
    },
    {
      "cell_type": "code",
      "source": [
        "from tensorflow.keras.models import Sequential\n",
        "# Define CBOW model function\n",
        "def build_cbow_model(vocab_size, embedded_size, window_size):\n",
        "    # input_layer = Input(shape=(2*window_size,))\n",
        "    # embedding_layer = Embedding(vocab_size, embed_size)(input_layer)\n",
        "    # flatten_layer = Lambda(lambda x: K.sum(x, axis=1))(embedding_layer)\n",
        "    # output_layer = Dense(vocab_size, activation='softmax')(flatten_layer)\n",
        "    # model = Model(inputs=input_layer, outputs=output_layer)\n",
        "    # model.compile(optimizer='adam', loss='categorical_crossentropy',metrics=['accuracy'])\n",
        "    model = Sequential()\n",
        "    model.add(Embedding(input_dim=vocab_size, output_dim=embed_size, input_length=2*window_size, name='embedding'))\n",
        "    model.add(Lambda(lambda x: tf.reduce_mean(x, axis=1)))\n",
        "    model.add(Dense(vocab_size, activation='softmax'))\n",
        "    model.compile(optimizer='adam', loss='categorical_crossentropy', metrics=['accuracy'])\n",
        "    return model"
      ],
      "metadata": {
        "id": "cVwCcGPNaByZ"
      },
      "execution_count": 44,
      "outputs": []
    },
    {
      "cell_type": "code",
      "source": [
        "model.summary()"
      ],
      "metadata": {
        "colab": {
          "base_uri": "https://localhost:8080/"
        },
        "id": "wA0LXgksc7wO",
        "outputId": "1daabb33-71b0-4646-bfb8-7f678ed7f0b6"
      },
      "execution_count": 32,
      "outputs": [
        {
          "output_type": "stream",
          "name": "stdout",
          "text": [
            "Model: \"sequential\"\n",
            "_________________________________________________________________\n",
            " Layer (type)                Output Shape              Param #   \n",
            "=================================================================\n",
            " embedding (Embedding)       (None, 4, 2)              56        \n",
            "                                                                 \n",
            " lambda_2 (Lambda)           (None, 2)                 0         \n",
            "                                                                 \n",
            " dense_2 (Dense)             (None, 28)                84        \n",
            "                                                                 \n",
            "=================================================================\n",
            "Total params: 140 (560.00 Byte)\n",
            "Trainable params: 140 (560.00 Byte)\n",
            "Non-trainable params: 0 (0.00 Byte)\n",
            "_________________________________________________________________\n"
          ]
        }
      ]
    },
    {
      "cell_type": "markdown",
      "source": [
        "# TODO: Set file path"
      ],
      "metadata": {
        "id": "0Oq50BtE1lWe"
      }
    },
    {
      "cell_type": "code",
      "source": [
        "# TODO: set correct file path\n",
        "file_path = './drive/MyDrive/Colab Notebooks/A3/small_corpus.txt'"
      ],
      "metadata": {
        "id": "7fek7pgq1oSf"
      },
      "execution_count": 25,
      "outputs": []
    },
    {
      "cell_type": "markdown",
      "source": [
        "# Running the helper functions"
      ],
      "metadata": {
        "id": "_pHa3gGV1tIq"
      }
    },
    {
      "cell_type": "code",
      "source": [
        "# Read the file\n",
        "with open(file_path, 'r', encoding='utf-8') as file:\n",
        "    text = file.read()\n",
        "\n",
        "words = preprocess(text)\n",
        "\n",
        "# Print vocabulary size\n",
        "print(f\"Number of words: {len(words)}\")\n",
        "\n",
        "# Model parameters\n",
        "window_size = 2\n",
        "\n",
        "# Prepare dataset\n",
        "vocab, contexts, targets = build_and_prepare_data(words, window_size)\n",
        "\n",
        "vocab_size = len(vocab)\n",
        "# Print vocabulary size\n",
        "print(f\"Vocabulary size: {vocab_size}\")\n",
        "\n",
        "# Print lengths of contexts and targets\n",
        "print(f\"Length of contexts array: {len(contexts)}\")\n",
        "print(f\"Length of targets array: {len(targets)}\")"
      ],
      "metadata": {
        "id": "h1VnZMEUvqW5",
        "colab": {
          "base_uri": "https://localhost:8080/"
        },
        "outputId": "979d6468-45a8-4496-9cad-988674bb31b8"
      },
      "execution_count": 45,
      "outputs": [
        {
          "output_type": "stream",
          "name": "stdout",
          "text": [
            "Number of words: 280000\n",
            "Vocabulary size: 28\n",
            "Length of contexts array: 279996\n",
            "Length of targets array: 279996\n"
          ]
        }
      ]
    },
    {
      "cell_type": "markdown",
      "source": [
        "# Split the data inton training and validation sets"
      ],
      "metadata": {
        "id": "JAeFt_mZwejS"
      }
    },
    {
      "cell_type": "code",
      "source": [
        "# Splitting the data\n",
        "contexts_train, contexts_val, targets_train, targets_val = train_test_split(contexts, targets, test_size=0.2, random_state=25)\n",
        "\n",
        "embed_size = 2"
      ],
      "metadata": {
        "id": "EKaUyZlSvzU3"
      },
      "execution_count": 12,
      "outputs": []
    },
    {
      "cell_type": "markdown",
      "source": [
        "# Train the model"
      ],
      "metadata": {
        "id": "7w_SJZcawmFB"
      }
    },
    {
      "cell_type": "code",
      "source": [
        "# Create and train the model\n",
        "model = build_cbow_model(vocab_size, embed_size, window_size)\n",
        "history = model.fit(contexts_train, targets_train, validation_data=(contexts_val, targets_val), epochs=7, verbose=1)\n"
      ],
      "metadata": {
        "id": "M8SK57mFwa0t",
        "colab": {
          "base_uri": "https://localhost:8080/"
        },
        "outputId": "73dd8e2a-c517-4160-a8d0-94455fafd7a7"
      },
      "execution_count": 26,
      "outputs": [
        {
          "output_type": "stream",
          "name": "stdout",
          "text": [
            "Epoch 1/7\n",
            "7000/7000 [==============================] - 30s 4ms/step - loss: 2.3523 - accuracy: 0.1193 - val_loss: 2.2201 - val_accuracy: 0.1385\n",
            "Epoch 2/7\n",
            "7000/7000 [==============================] - 27s 4ms/step - loss: 2.2114 - accuracy: 0.1406 - val_loss: 2.2073 - val_accuracy: 0.1422\n",
            "Epoch 3/7\n",
            "7000/7000 [==============================] - 28s 4ms/step - loss: 2.2040 - accuracy: 0.1447 - val_loss: 2.2015 - val_accuracy: 0.1469\n",
            "Epoch 4/7\n",
            "7000/7000 [==============================] - 27s 4ms/step - loss: 2.1976 - accuracy: 0.1492 - val_loss: 2.1953 - val_accuracy: 0.1474\n",
            "Epoch 5/7\n",
            "7000/7000 [==============================] - 29s 4ms/step - loss: 2.1919 - accuracy: 0.1512 - val_loss: 2.1900 - val_accuracy: 0.1531\n",
            "Epoch 6/7\n",
            "7000/7000 [==============================] - 29s 4ms/step - loss: 2.1874 - accuracy: 0.1536 - val_loss: 2.1868 - val_accuracy: 0.1484\n",
            "Epoch 7/7\n",
            "7000/7000 [==============================] - 27s 4ms/step - loss: 2.1835 - accuracy: 0.1546 - val_loss: 2.1831 - val_accuracy: 0.1564\n"
          ]
        }
      ]
    },
    {
      "cell_type": "markdown",
      "source": [
        "# TODO: Visualise the Training and Validation loss"
      ],
      "metadata": {
        "id": "ARDpEQEYwqeS"
      }
    },
    {
      "cell_type": "code",
      "source": [
        "# Plotting the training and validation loss\n",
        "#TODO\n",
        "def plot_history(history):\n",
        "    plt.plot(history.history['loss'], label='Training loss')\n",
        "    plt.plot(history.history['val_loss'], label='Validation loss')\n",
        "    plt.xlabel('Epochs')\n",
        "    plt.ylabel('Loss')\n",
        "    plt.legend()\n",
        "    plt.show()\n",
        "\n",
        "# def virtualize_train_loss(embeddings, vocabulary):\n",
        "#   plt.figure(figsize=(10, 10))\n",
        "#   for word, i in vocabulary.items():\n",
        "#     x = embeddings[i, 0]\n",
        "#     y = embeddings[i, 1]\n",
        "#     plt.scatter(x, y)\n",
        "#     plt.text(x, y, word, fontsize=13)\n",
        "#   plt.xlable('Embedding Dim 1')\n",
        "#   plt.ylable('Embedding Dim 2')\n",
        "#   plt.show()\n",
        "plot_history(history)"
      ],
      "metadata": {
        "id": "knS04YQgwvBa",
        "colab": {
          "base_uri": "https://localhost:8080/",
          "height": 449
        },
        "outputId": "65490b79-23b9-4cf1-f99d-c20624904779"
      },
      "execution_count": 27,
      "outputs": [
        {
          "output_type": "display_data",
          "data": {
            "text/plain": [
              "<Figure size 640x480 with 1 Axes>"
            ],
            "image/png": "[encoded data removed]"
          },
          "metadata": {}
        }
      ]
    },
    {
      "cell_type": "markdown",
      "source": [
        "# TODO: Extract the embeddings"
      ],
      "metadata": {
        "id": "uARqDG-twyV7"
      }
    },
    {
      "cell_type": "code",
      "source": [
        "# Extract embeddings\n",
        "#TODO\n",
        "def extrac_embeddings(model, vocab):\n",
        "    weights = model.get_layer('embedding').get_weights()[0]\n",
        "    embeddings = {}\n",
        "    for word, index in vocab.items():\n",
        "        embeddings[word] = weights[index]\n",
        "\n",
        "    print(embeddings)\n",
        "    return embeddings"
      ],
      "metadata": {
        "id": "G2cN8QXMnc7d"
      },
      "execution_count": 39,
      "outputs": []
    },
    {
      "cell_type": "markdown",
      "source": [
        "# TODO: Find similar words"
      ],
      "metadata": {
        "id": "5AuaC0wlw5AQ"
      }
    },
    {
      "cell_type": "code",
      "source": [
        "def cosine_similarity(vec_a, vec_b):\n",
        "    \"\"\"Calculate the cosine similarity between two vectors.\"\"\"\n",
        "    #TODO\n",
        "    dot_product = np.dot(vec_a, vec_b)\n",
        "    norm_a = np.linalg.norm(vec_a)\n",
        "    norm_b = np.linalg.norm(vec_b)\n",
        "    similarity = dot_product / (norm_a * norm_b)\n",
        "    return similarity\n",
        "\n",
        "def find_similar_words(query_word, vocab, embeddings, top_n=3):\n",
        "    \"\"\"Find the top_n words most similar to the query_word based on the embeddings.\"\"\"\n",
        "    # similarities = []\n",
        "\n",
        "    # #TODO populate the similarities list\n",
        "    # query_vec = embeddings[vocab[query_word]]\n",
        "\n",
        "    # for word, index in vocab.items():\n",
        "    #     if word != query_word:\n",
        "    #         similarity = cosine_similarity(query_vec, embeddings[index])\n",
        "    #         similarities.append((word, similarity))\n",
        "\n",
        "    # # Sort based on similarity scores\n",
        "    # similarities.sort(key=lambda x: x[1], reverse=True)\n",
        "\n",
        "    # # Print top similar words\n",
        "    # print(f\"Words most similar to '{query_word}':\")\n",
        "    # for word, similarity in similarities[:top_n]:\n",
        "    #     print(f\"{word}: {similarity:.4f}\")\n",
        "\n",
        "    # similarities = []\n",
        "    # query_vec = embeddings[vocab[query_word]]\n",
        "\n",
        "    # for word, index in vocab.items():\n",
        "    #     if word != query_word:\n",
        "    #         similarity = cosine_similarity(query_vec, embeddings[index])\n",
        "    #         similarities.append((word, similarity))\n",
        "\n",
        "    # similarities.sort(key=lambda x: x[1], reverse=True)\n",
        "\n",
        "    similarities = []\n",
        "    query_vec = embeddings[query_word]\n",
        "    for word, index in vocab.items():\n",
        "        if word != query_word:\n",
        "            similarity = cosine_similarity(query_vec, embeddings[word])\n",
        "            similarities.append((word, similarity))\n",
        "    similarities.sort(key=lambda x: x[1], reverse=True)\n",
        "    print(f\"Words most similar to '{query_word}':\")\n",
        "    for word, similarity in similarities[:top_n]:\n",
        "        print(f\"{word}: {similarity:.4f}\")\n",
        "    return similarities[:top_n]"
      ],
      "metadata": {
        "id": "0wt6O91ajECC"
      },
      "execution_count": 50,
      "outputs": []
    },
    {
      "cell_type": "code",
      "source": [
        "query_words = ['poland', 'thailand', 'morocco']\n",
        "embeddings = extrac_embeddings(model, vocab)\n",
        "print(\"Vocabulary:\", vocab)\n",
        "print(\"Embeddings:\", embeddings)\n",
        "for query_word in query_words:\n",
        "    find_similar_words(query_word, vocab, embeddings)\n",
        "    print(\"\\n\")\n"
      ],
      "metadata": {
        "id": "Ezzy52UyjFR8",
        "colab": {
          "base_uri": "https://localhost:8080/"
        },
        "outputId": "1907b63a-f9aa-4677-9d84-4ba9780c65c2"
      },
      "execution_count": 51,
      "outputs": [
        {
          "output_type": "stream",
          "name": "stdout",
          "text": [
            "{'morocco': array([-5.524102 ,  3.5444305], dtype=float32), 'algeria': array([-4.277616 ,  1.7736688], dtype=float32), 'kenya': array([-1.6352816 , -0.54409516], dtype=float32), 'nigeria': array([-3.8293767,  2.7293139], dtype=float32), 'ghana': array([-4.9332867,  3.788389 ], dtype=float32), 'egypt': array([-3.43803  ,  3.9202158], dtype=float32), 'tanzania': array([-0.8437194,  5.6399994], dtype=float32), 'uganda': array([-1.8313838,  1.2413297], dtype=float32), 'ethiopia': array([-0.9581129,  3.7414114], dtype=float32), 'indonesia': array([2.3401127, 4.124697 ], dtype=float32), 'bangladesh': array([2.6239586, 0.5656247], dtype=float32), 'india': array([1.9228671, 0.8357332], dtype=float32), 'thailand': array([3.5127878, 1.5937853], dtype=float32), 'japan': array([ 9.861819  , -0.66126984], dtype=float32), 'vietnam': array([ 1.3091505, -0.5457049], dtype=float32), 'malaysia': array([3.4494581 , 0.33882716], dtype=float32), 'china': array([7.59847 , 2.964832], dtype=float32), 'philippines': array([ 2.4290614 , -0.37576807], dtype=float32), 'germany': array([-1.1654496, -5.5324845], dtype=float32), 'uk': array([-2.7004364, -5.1206436], dtype=float32), 'spain': array([-3.4290903, -1.17473  ], dtype=float32), 'italy': array([ 0.34807333, -2.556451  ], dtype=float32), 'russia': array([ 0.42861855, -3.5776584 ], dtype=float32), 'netherlands': array([-1.4314396, -4.793196 ], dtype=float32), 'switzerland': array([-0.9632736, -3.9687245], dtype=float32), 'sweden': array([ 0.23950773, -4.560856  ], dtype=float32), 'france': array([0.22588672, 0.5646751 ], dtype=float32), 'poland': array([-1.3866256, -6.636733 ], dtype=float32)}\n",
            "Vocabulary: {'morocco': 0, 'algeria': 1, 'kenya': 2, 'nigeria': 3, 'ghana': 4, 'egypt': 5, 'tanzania': 6, 'uganda': 7, 'ethiopia': 8, 'indonesia': 9, 'bangladesh': 10, 'india': 11, 'thailand': 12, 'japan': 13, 'vietnam': 14, 'malaysia': 15, 'china': 16, 'philippines': 17, 'germany': 18, 'uk': 19, 'spain': 20, 'italy': 21, 'russia': 22, 'netherlands': 23, 'switzerland': 24, 'sweden': 25, 'france': 26, 'poland': 27}\n",
            "Embeddings: {'morocco': array([-5.524102 ,  3.5444305], dtype=float32), 'algeria': array([-4.277616 ,  1.7736688], dtype=float32), 'kenya': array([-1.6352816 , -0.54409516], dtype=float32), 'nigeria': array([-3.8293767,  2.7293139], dtype=float32), 'ghana': array([-4.9332867,  3.788389 ], dtype=float32), 'egypt': array([-3.43803  ,  3.9202158], dtype=float32), 'tanzania': array([-0.8437194,  5.6399994], dtype=float32), 'uganda': array([-1.8313838,  1.2413297], dtype=float32), 'ethiopia': array([-0.9581129,  3.7414114], dtype=float32), 'indonesia': array([2.3401127, 4.124697 ], dtype=float32), 'bangladesh': array([2.6239586, 0.5656247], dtype=float32), 'india': array([1.9228671, 0.8357332], dtype=float32), 'thailand': array([3.5127878, 1.5937853], dtype=float32), 'japan': array([ 9.861819  , -0.66126984], dtype=float32), 'vietnam': array([ 1.3091505, -0.5457049], dtype=float32), 'malaysia': array([3.4494581 , 0.33882716], dtype=float32), 'china': array([7.59847 , 2.964832], dtype=float32), 'philippines': array([ 2.4290614 , -0.37576807], dtype=float32), 'germany': array([-1.1654496, -5.5324845], dtype=float32), 'uk': array([-2.7004364, -5.1206436], dtype=float32), 'spain': array([-3.4290903, -1.17473  ], dtype=float32), 'italy': array([ 0.34807333, -2.556451  ], dtype=float32), 'russia': array([ 0.42861855, -3.5776584 ], dtype=float32), 'netherlands': array([-1.4314396, -4.793196 ], dtype=float32), 'switzerland': array([-0.9632736, -3.9687245], dtype=float32), 'sweden': array([ 0.23950773, -4.560856  ], dtype=float32), 'france': array([0.22588672, 0.5646751 ], dtype=float32), 'poland': array([-1.3866256, -6.636733 ], dtype=float32)}\n",
            "Words most similar to 'poland':\n",
            "germany: 1.0000\n",
            "switzerland: 0.9995\n",
            "netherlands: 0.9965\n",
            "\n",
            "\n",
            "Words most similar to 'thailand':\n",
            "india: 0.9999\n",
            "china: 0.9985\n",
            "bangladesh: 0.9773\n",
            "\n",
            "\n",
            "Words most similar to 'morocco':\n",
            "uganda: 0.9997\n",
            "nigeria: 0.9988\n",
            "ghana: 0.9964\n",
            "\n",
            "\n"
          ]
        }
      ]
    },
    {
      "cell_type": "markdown",
      "source": [
        "# TODO: Visualise the embeddings"
      ],
      "metadata": {
        "id": "M4eJgZRQxFz2"
      }
    },
    {
      "cell_type": "code",
      "source": [
        "# Create a scatter plot of the embeddings\n",
        "# TODO\n",
        "def visualize_embeddings(embeddings, vocab):\n",
        "    plt.figure(figsize=(10, 10))\n",
        "    for word, index in vocab.items():\n",
        "        x = embeddings[word][0]\n",
        "        y = embeddings[word][1]\n",
        "        plt.scatter(x, y)\n",
        "        plt.text(x+0.1, y+0.1, word, fontsize=9)\n",
        "    plt.xlabel('Embedding Dim 1')\n",
        "    plt.ylabel('Embedding Dim 2')\n",
        "    plt.title('Word Embeddings Visualization')\n",
        "    plt.grid(True)\n",
        "    plt.show()\n",
        "\n",
        "\n",
        "visualize_embeddings(embeddings, vocab)"
      ],
      "metadata": {
        "id": "vB3ZFrgapYr_",
        "colab": {
          "base_uri": "https://localhost:8080/",
          "height": 872
        },
        "outputId": "93fda8ce-2c58-4266-f1e5-5df8019366d9"
      },
      "execution_count": 52,
      "outputs": [
        {
          "output_type": "display_data",
          "data": {
            "text/plain": [
              "<Figure size 1000x1000 with 1 Axes>"
            ],
            "image/png": "[encoded data removed]"
          },
          "metadata": {}
        }
      ]
    }
  ]
}